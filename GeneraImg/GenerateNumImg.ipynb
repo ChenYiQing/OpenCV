{
 "cells": [
  {
   "cell_type": "markdown",
   "metadata": {},
   "source": [
    "# 生成矩形和圆形图片并保存"
   ]
  },
  {
   "cell_type": "markdown",
   "metadata": {},
   "source": [
    "#### 读取测试"
   ]
  },
  {
   "cell_type": "code",
   "execution_count": null,
   "metadata": {},
   "outputs": [],
   "source": [
    "import cv2 as cv\n",
    "#读取图片\n",
    "img = cv.imread(\"lena.png\")\n",
    "\n",
    "#显示图片\n",
    "cv.namedWindow(\"img\")\n",
    "cv.imshow(\"img\",img)\n",
    "cv.waitKey(0)\n",
    "cv.destroyAllWindows()"
   ]
  },
  {
   "cell_type": "markdown",
   "metadata": {},
   "source": [
    "#### 保存图片"
   ]
  },
  {
   "cell_type": "code",
   "execution_count": null,
   "metadata": {},
   "outputs": [],
   "source": [
    "import cv2 as cv\n",
    "\n",
    "img = cv.imread(\"lena.png\")\n",
    "#cv.imwrite(\"output.png\",img)\n",
    "# cv.imwrite(\"./img/Rec/3/img.png\",img)\n",
    "cv.imwrite(\"./img/img.png\",img)"
   ]
  },
  {
   "cell_type": "markdown",
   "metadata": {},
   "source": [
    "#### 动态生成图像"
   ]
  },
  {
   "cell_type": "code",
   "execution_count": null,
   "metadata": {},
   "outputs": [],
   "source": [
    "import numpy as np\n",
    "import cv2 as cv\n",
    "\n",
    "img = np.ones((28,28),dtype=np.uint8)\n",
    "print(img)\n",
    "\n",
    "#显示图片\n",
    "cv.namedWindow(\"img\")\n",
    "cv.imshow(\"img\",img)\n",
    "cv.waitKey(0)\n",
    "cv.destroyAllWindows()\n",
    "\n"
   ]
  },
  {
   "cell_type": "markdown",
   "metadata": {},
   "source": [
    "#### 简单图像绘制"
   ]
  },
  {
   "cell_type": "code",
   "execution_count": null,
   "metadata": {},
   "outputs": [],
   "source": [
    "import numpy as np\n",
    "import cv2 as cv\n",
    "\n",
    "img = np.ones((28,28),dtype=np.uint8)\n",
    "\n",
    "cv.line(img,(5,5),(25,25),255,1)\n",
    "cv.rectangle(img,(5,5),(20,20),255,1)\n",
    "cv.circle(img,(10,10),8,255,1)\n",
    "\n",
    "\n",
    "#显示图片\n",
    "cv.namedWindow(\"img\")\n",
    "cv.imshow(\"img\",img)\n",
    "cv.waitKey(0)\n",
    "cv.destroyAllWindows()"
   ]
  },
  {
   "cell_type": "markdown",
   "metadata": {},
   "source": [
    "#### 批量生成图片并生成记录文件\n",
    "图片按照需要存入\n",
    "```\n",
    "./img/num.png\n",
    "./img/num.png\n",
    "```\n",
    "记录文件 trainData.dt\n",
    "```\n",
    "./img/num.png,0\n",
    "./img/num.png,1\n",
    "```\n"
   ]
  },
  {
   "cell_type": "code",
   "execution_count": null,
   "metadata": {},
   "outputs": [],
   "source": [
    "import numpy as np\n",
    "import cv2 as cv\n",
    "import random\n",
    "\n",
    "imgW = 28\n",
    "imgH = 28\n",
    "\n",
    "def generalRec():\n",
    "    img = np.ones((imgW,imgH),dtype=np.uint8)\n",
    "    InitX = random.randint(2,imgW-5)\n",
    "    InitY = random.randint(2,imgH-5)\n",
    "    RecW = random.randint(4,imgW-InitX-1)\n",
    "    RecH = random.randint(4,imgH-InitY-1)\n",
    "    cv.rectangle(img,(InitX,InitY),(RecW,RecH),255,1)\n",
    "#     #显示图片\n",
    "#     cv.namedWindow(\"img\")\n",
    "#     cv.imshow(\"img\",img)\n",
    "#     cv.waitKey(0)\n",
    "#     cv.destroyAllWindows()\n",
    "    return img\n",
    "\n",
    "\n",
    "    \n",
    "def generalCircle():\n",
    "    img = np.ones((imgW,imgH),dtype=np.uint8)\n",
    "    InitX = random.randint(5,imgW-5)\n",
    "    InitY = random.randint(5,imgH-5)\n",
    "    minDis = min(5,imgW-InitX,imgH-InitY)\n",
    "    r = random.randint(2,minDis)\n",
    "    cv.circle(img,(InitX,InitY),r,255,1)\n",
    "#     #显示图片\n",
    "#     cv.namedWindow(\"img\")\n",
    "#     cv.imshow(\"img\",img)\n",
    "#     cv.waitKey(0)\n",
    "#     cv.destroyAllWindows()\n",
    "    return img\n",
    "    \n",
    "\n",
    "def GenerateTrainData(genNum):\n",
    "    with open('trainData.dt','w') as f:\n",
    "        for i in range(genNum):\n",
    "            randBoo = random.choice([True,False])\n",
    "            if(randBoo):\n",
    "                # general rec\n",
    "                genImg = generalRec()\n",
    "                lineStr = \"./img/\"+i.__str__()+\".png,0\\n\"\n",
    "                f.write(lineStr)\n",
    "                cv.imwrite(\"./img/\"+i.__str__()+\".png\",genImg)\n",
    "            else:\n",
    "                # general circle\n",
    "                genImg = generalCircle()\n",
    "                lineStr = \"./img/\"+i.__str__()+\".png,1\\n\"\n",
    "                f.write(lineStr)\n",
    "                cv.imwrite(\"./img/\"+i.__str__()+\".png\",genImg)\n",
    "            \n",
    "        \n",
    "\n",
    "GenerateTrainData(10)\n",
    "    \n",
    "    \n",
    "\n"
   ]
  },
  {
   "cell_type": "code",
   "execution_count": null,
   "metadata": {},
   "outputs": [],
   "source": [
    "#读取测试\n",
    "with open('trainData.dt') as f:\n",
    "    line = f.readline()\n",
    "    while line:\n",
    "        strSplit = line.split(',',1)\n",
    "        print(strSplit[0])\n",
    "        print(strSplit[1])\n",
    "        line = f.readline()\n"
   ]
  },
  {
   "cell_type": "markdown",
   "metadata": {},
   "source": [
    "### Todo\n",
    "* [ ] 文本异步读取\n",
    "* [ ] 同一目录不存太多图片"
   ]
  }
 ],
 "metadata": {
  "kernelspec": {
   "display_name": "Python 2",
   "language": "python",
   "name": "python2"
  },
  "language_info": {
   "codemirror_mode": {
    "name": "ipython",
    "version": 2
   },
   "file_extension": ".py",
   "mimetype": "text/x-python",
   "name": "python",
   "nbconvert_exporter": "python",
   "pygments_lexer": "ipython2",
   "version": "2.7.15rc1"
  }
 },
 "nbformat": 4,
 "nbformat_minor": 2
}
